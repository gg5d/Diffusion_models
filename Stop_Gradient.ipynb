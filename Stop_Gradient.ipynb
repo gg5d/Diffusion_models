{
  "nbformat": 4,
  "nbformat_minor": 0,
  "metadata": {
    "colab": {
      "provenance": [],
      "authorship_tag": "ABX9TyP8i8CjzPPHfvLYtKAzrS2f",
      "include_colab_link": true
    },
    "kernelspec": {
      "name": "python3",
      "display_name": "Python 3"
    },
    "language_info": {
      "name": "python"
    }
  },
  "cells": [
    {
      "cell_type": "markdown",
      "metadata": {
        "id": "view-in-github",
        "colab_type": "text"
      },
      "source": [
        "<a href=\"https://colab.research.google.com/github/gg5d/Diffusion_models/blob/main/Stop_Gradient.ipynb\" target=\"_parent\"><img src=\"https://colab.research.google.com/assets/colab-badge.svg\" alt=\"Open In Colab\"/></a>"
      ]
    },
    {
      "cell_type": "markdown",
      "source": [
        "#Stop Gradient example\n",
        "\n",
        "\n",
        "A stop gradient operation is a technique used in machine learning—especially in deep learning frameworks like TensorFlow and PyTorch—to prevent gradients from flowing backward through a specific part of a computational graph during backpropagation."
      ],
      "metadata": {
        "id": "2AGWxiGEUi92"
      }
    },
    {
      "cell_type": "code",
      "execution_count": 2,
      "metadata": {
        "colab": {
          "base_uri": "https://localhost:8080/"
        },
        "id": "8YWRcL7dQaP8",
        "outputId": "891ba75e-2a77-434a-fff4-7d35ce45ccac"
      },
      "outputs": [
        {
          "output_type": "stream",
          "name": "stdout",
          "text": [
            "torch.Size([8, 10])\n"
          ]
        }
      ],
      "source": [
        "import torch\n",
        "import torch.nn as nn\n",
        "import torchvision.models as models\n",
        "from torchvision.models import ResNet18_Weights\n",
        "\n",
        "class CustomModel(nn.Module):\n",
        "    def __init__(self):\n",
        "        super(CustomModel, self).__init__()\n",
        "\n",
        "        # Load pretrained ResNet18 using the new weights API\n",
        "        resnet = models.resnet18(weights=ResNet18_Weights.DEFAULT)\n",
        "\n",
        "        # Use only the convolutional base (excluding the fully connected layers)\n",
        "        self.feature_extractor = nn.Sequential(*list(resnet.children())[:-2])\n",
        "\n",
        "        # Freeze the feature extractor\n",
        "        for param in self.feature_extractor.parameters():\n",
        "            param.requires_grad = False\n",
        "\n",
        "        # Custom classifier head\n",
        "        self.classifier = nn.Sequential(\n",
        "            nn.AdaptiveAvgPool2d((1, 1)),\n",
        "            nn.Flatten(),\n",
        "            nn.Linear(512, 10)  # Assuming 10 output classes\n",
        "        )\n",
        "\n",
        "    def forward(self, x):\n",
        "        with torch.no_grad():  # Stop gradient here\n",
        "            features = self.feature_extractor(x)\n",
        "\n",
        "        output = self.classifier(features)\n",
        "        return output\n",
        "\n",
        "# Example usage\n",
        "model = CustomModel()\n",
        "input_tensor = torch.randn(8, 3, 224, 224)\n",
        "output = model(input_tensor)\n",
        "print(output.shape)  # Should be [8, 10]\n"
      ]
    },
    {
      "cell_type": "code",
      "source": [
        "import torch\n",
        "import torch.nn as nn\n",
        "import torch.optim as optim\n",
        "from torchvision import datasets, transforms\n",
        "from torchvision.models import resnet18, ResNet18_Weights\n",
        "from torch.utils.data import DataLoader\n",
        "\n",
        "# 1. Load a pretrained ResNet18 model with default weights\n",
        "resnet = resnet18(weights=ResNet18_Weights.DEFAULT)\n",
        "\n",
        "# 2. Freeze all layers so they won't be updated during training\n",
        "for param in resnet.parameters():\n",
        "    param.requires_grad = False\n",
        "\n",
        "# 3. Unfreeze only layer2 and layer3 so they can be trained\n",
        "for param in resnet.layer2.parameters():\n",
        "    param.requires_grad = True\n",
        "for param in resnet.layer3.parameters():\n",
        "    param.requires_grad = True\n",
        "\n",
        "# 4. Replace the final fully connected (fc) layer to match our number of classes (e.g., 10 for CIFAR-10)\n",
        "num_classes = 10\n",
        "resnet.fc = nn.Linear(resnet.fc.in_features, num_classes)\n",
        "\n",
        "# 5. Unfreeze the new fc layer so it can be trained\n",
        "for param in resnet.fc.parameters():\n",
        "    param.requires_grad = True\n",
        "\n",
        "# 6. Define image transformations: resize and convert to tensor\n",
        "transform = transforms.Compose([\n",
        "    transforms.Resize((224, 224)),  # Resize images to 224x224 (ResNet input size)\n",
        "    transforms.ToTensor()           # Convert images to PyTorch tensors\n",
        "])\n",
        "\n",
        "# 7. Load the CIFAR-10 training dataset\n",
        "train_dataset = datasets.CIFAR10(root='./data', train=True, download=True, transform=transform)\n",
        "train_loader = DataLoader(train_dataset, batch_size=32, shuffle=True)  # Load data in batches of 32\n",
        "\n",
        "# 8. Define the loss function (CrossEntropyLoss for classification)\n",
        "criterion = nn.CrossEntropyLoss()\n",
        "\n",
        "# 9. Create an optimizer that only updates parameters that require gradients\n",
        "trainable_params = filter(lambda p: p.requires_grad, resnet.parameters())\n",
        "optimizer = optim.Adam(trainable_params, lr=1e-4)  # Adam optimizer with learning rate 0.0001\n",
        "\n",
        "# 10. Move model to GPU if available\n",
        "device = torch.device(\"cuda\" if torch.cuda.is_available() else \"cpu\")\n",
        "resnet.to(device)\n",
        "\n",
        "# 11. Training loop\n",
        "num_epochs = 5  # Number of times to go through the entire dataset\n",
        "for epoch in range(num_epochs):\n",
        "    resnet.train()  # Set model to training mode\n",
        "    running_loss = 0.0  # Track loss for this epoch\n",
        "\n",
        "    for images, labels in train_loader:\n",
        "        # Move data to the same device as the model (GPU or CPU)\n",
        "        images, labels = images.to(device), labels.to(device)\n",
        "\n",
        "        optimizer.zero_grad()        # Clear previous gradients\n",
        "        outputs = resnet(images)     # Forward pass: compute predictions\n",
        "        loss = criterion(outputs, labels)  # Compute loss\n",
        "        loss.backward()              # Backward pass: compute gradients\n",
        "        optimizer.step()             # Update weights\n",
        "\n",
        "        running_loss += loss.item()  # Accumulate loss\n",
        "\n",
        "    # Print average loss for this epoch\n",
        "    print(f\"Epoch [{epoch+1}/{num_epochs}], Loss: {running_loss/len(train_loader):.4f}\")\n"
      ],
      "metadata": {
        "colab": {
          "base_uri": "https://localhost:8080/"
        },
        "id": "GSfKMjvaSm_o",
        "outputId": "7f44a2ad-1a51-4a2e-83ef-81c99b7e2122"
      },
      "execution_count": null,
      "outputs": [
        {
          "output_type": "stream",
          "name": "stderr",
          "text": [
            "100%|██████████| 170M/170M [00:02<00:00, 85.1MB/s]\n"
          ]
        }
      ]
    }
  ]
}