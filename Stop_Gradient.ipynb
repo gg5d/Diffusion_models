{
  "nbformat": 4,
  "nbformat_minor": 0,
  "metadata": {
    "colab": {
      "provenance": [],
      "authorship_tag": "ABX9TyMYKAS4RHsHm1ZDW7QwmhEM",
      "include_colab_link": true
    },
    "kernelspec": {
      "name": "python3",
      "display_name": "Python 3"
    },
    "language_info": {
      "name": "python"
    }
  },
  "cells": [
    {
      "cell_type": "markdown",
      "metadata": {
        "id": "view-in-github",
        "colab_type": "text"
      },
      "source": [
        "<a href=\"https://colab.research.google.com/github/gg5d/Diffusion_models/blob/main/Stop_Gradient.ipynb\" target=\"_parent\"><img src=\"https://colab.research.google.com/assets/colab-badge.svg\" alt=\"Open In Colab\"/></a>"
      ]
    },
    {
      "cell_type": "markdown",
      "source": [
        "#Stop Gradient example\n",
        "\n",
        "\n",
        "A stop gradient operation is a technique used in machine learning—especially in deep learning frameworks like TensorFlow and PyTorch—to prevent gradients from flowing backward through a specific part of a computational graph during backpropagation."
      ],
      "metadata": {
        "id": "2AGWxiGEUi92"
      }
    },
    {
      "cell_type": "code",
      "execution_count": 2,
      "metadata": {
        "colab": {
          "base_uri": "https://localhost:8080/"
        },
        "id": "8YWRcL7dQaP8",
        "outputId": "891ba75e-2a77-434a-fff4-7d35ce45ccac"
      },
      "outputs": [
        {
          "output_type": "stream",
          "name": "stdout",
          "text": [
            "torch.Size([8, 10])\n"
          ]
        }
      ],
      "source": [
        "import torch\n",
        "import torch.nn as nn\n",
        "import torchvision.models as models\n",
        "from torchvision.models import ResNet18_Weights\n",
        "\n",
        "class CustomModel(nn.Module):\n",
        "    def __init__(self):\n",
        "        super(CustomModel, self).__init__()\n",
        "\n",
        "        # Load pretrained ResNet18 using the new weights API\n",
        "        resnet = models.resnet18(weights=ResNet18_Weights.DEFAULT)\n",
        "\n",
        "        # Use only the convolutional base (excluding the fully connected layers)\n",
        "        self.feature_extractor = nn.Sequential(*list(resnet.children())[:-2])\n",
        "\n",
        "        # Freeze the feature extractor\n",
        "        for param in self.feature_extractor.parameters():\n",
        "            param.requires_grad = False\n",
        "\n",
        "        # Custom classifier head\n",
        "        self.classifier = nn.Sequential(\n",
        "            nn.AdaptiveAvgPool2d((1, 1)),\n",
        "            nn.Flatten(),\n",
        "            nn.Linear(512, 10)  # Assuming 10 output classes\n",
        "        )\n",
        "\n",
        "    def forward(self, x):\n",
        "        with torch.no_grad():  # Stop gradient here\n",
        "            features = self.feature_extractor(x)\n",
        "\n",
        "        output = self.classifier(features)\n",
        "        return output\n",
        "\n",
        "# Example usage\n",
        "model = CustomModel()\n",
        "input_tensor = torch.randn(8, 3, 224, 224)\n",
        "output = model(input_tensor)\n",
        "print(output.shape)  # Should be [8, 10]\n"
      ]
    },
    {
      "cell_type": "markdown",
      "source": [
        "Updated"
      ],
      "metadata": {
        "id": "UFn5DTmdV4Id"
      }
    },
    {
      "cell_type": "code",
      "source": [
        "import torch\n",
        "import torch.nn as nn\n",
        "from torchvision.models import resnet18, ResNet18_Weights\n",
        "\n",
        "class PartialFineTuneModel(nn.Module):\n",
        "    def __init__(self):\n",
        "        super(PartialFineTuneModel, self).__init__()\n",
        "\n",
        "        # Load pretrained ResNet18\n",
        "        resnet = resnet18(weights=ResNet18_Weights.DEFAULT)\n",
        "\n",
        "        # Freeze all layers first\n",
        "        for param in resnet.parameters():\n",
        "            param.requires_grad = False\n",
        "\n",
        "        # Unfreeze the last residual block (layer4)\n",
        "        for param in resnet.layer4.parameters():\n",
        "            param.requires_grad = True\n",
        "\n",
        "        # Use all layers except the final fully connected layer\n",
        "        self.feature_extractor = nn.Sequential(*list(resnet.children())[:-2])\n",
        "\n",
        "        # Custom classifier head\n",
        "        self.classifier = nn.Sequential(\n",
        "            nn.AdaptiveAvgPool2d((1, 1)),\n",
        "            nn.Flatten(),\n",
        "            nn.Linear(512, 10)  # Adjust for your number of classes\n",
        "        )\n",
        "\n",
        "    def forward(self, x):\n",
        "        features = self.feature_extractor(x)  # Gradients flow through layer4\n",
        "        output = self.classifier(features)\n",
        "        return output\n",
        "\n",
        "# Example usage\n",
        "model = PartialFineTuneModel()\n",
        "input_tensor = torch.randn(8, 3, 224, 224)\n",
        "output = model(input_tensor)\n",
        "print(output.shape)  # Should be [8, 10]\n"
      ],
      "metadata": {
        "id": "b1zkQCxIV4yX"
      },
      "execution_count": null,
      "outputs": []
    },
    {
      "cell_type": "markdown",
      "source": [
        "###**Full Example: Selective Fine-Tuning of layer2 and layer3**\n"
      ],
      "metadata": {
        "id": "c9ZqkhDkWJaY"
      }
    },
    {
      "cell_type": "code",
      "source": [
        "import torch\n",
        "import torch.nn as nn\n",
        "import torch.optim as optim\n",
        "from torchvision import datasets, transforms\n",
        "from torchvision.models import resnet18, ResNet18_Weights\n",
        "from torch.utils.data import DataLoader\n",
        "\n",
        "# 1. Load a pretrained ResNet18 model with default weights\n",
        "resnet = resnet18(weights=ResNet18_Weights.DEFAULT)\n",
        "\n",
        "# 2. Freeze all layers so they won't be updated during training\n",
        "for param in resnet.parameters():\n",
        "    param.requires_grad = False\n",
        "\n",
        "# 3. Unfreeze only layer2 and layer3 so they can be trained\n",
        "for param in resnet.layer2.parameters():\n",
        "    param.requires_grad = True\n",
        "for param in resnet.layer3.parameters():\n",
        "    param.requires_grad = True\n",
        "\n",
        "# 4. Replace the final fully connected (fc) layer to match our number of classes (e.g., 10 for CIFAR-10)\n",
        "num_classes = 10\n",
        "resnet.fc = nn.Linear(resnet.fc.in_features, num_classes)\n",
        "\n",
        "# 5. Unfreeze the new fc layer so it can be trained\n",
        "for param in resnet.fc.parameters():\n",
        "    param.requires_grad = True\n",
        "\n",
        "# 6. Define image transformations: resize and convert to tensor\n",
        "transform = transforms.Compose([\n",
        "    transforms.Resize((224, 224)),  # Resize images to 224x224 (ResNet input size)\n",
        "    transforms.ToTensor()           # Convert images to PyTorch tensors\n",
        "])\n",
        "\n",
        "# 7. Load the CIFAR-10 training dataset\n",
        "train_dataset = datasets.CIFAR10(root='./data', train=True, download=True, transform=transform)\n",
        "train_loader = DataLoader(train_dataset, batch_size=32, shuffle=True)  # Load data in batches of 32\n",
        "\n",
        "# 8. Define the loss function (CrossEntropyLoss for classification)\n",
        "criterion = nn.CrossEntropyLoss()\n",
        "\n",
        "# 9. Create an optimizer that only updates parameters that require gradients\n",
        "trainable_params = filter(lambda p: p.requires_grad, resnet.parameters())\n",
        "optimizer = optim.Adam(trainable_params, lr=1e-4)  # Adam optimizer with learning rate 0.0001\n",
        "\n",
        "# 10. Move model to GPU if available\n",
        "device = torch.device(\"cuda\" if torch.cuda.is_available() else \"cpu\")\n",
        "resnet.to(device)\n",
        "\n",
        "# 11. Training loop\n",
        "num_epochs = 5  # Number of times to go through the entire dataset\n",
        "for epoch in range(num_epochs):\n",
        "    resnet.train()  # Set model to training mode\n",
        "    running_loss = 0.0  # Track loss for this epoch\n",
        "\n",
        "    for images, labels in train_loader:\n",
        "        # Move data to the same device as the model (GPU or CPU)\n",
        "        images, labels = images.to(device), labels.to(device)\n",
        "\n",
        "        optimizer.zero_grad()        # Clear previous gradients\n",
        "        outputs = resnet(images)     # Forward pass: compute predictions\n",
        "        loss = criterion(outputs, labels)  # Compute loss\n",
        "        loss.backward()              # Backward pass: compute gradients\n",
        "        optimizer.step()             # Update weights\n",
        "\n",
        "        running_loss += loss.item()  # Accumulate loss\n",
        "\n",
        "    # Print average loss for this epoch\n",
        "    print(f\"Epoch [{epoch+1}/{num_epochs}], Loss: {running_loss/len(train_loader):.4f}\")\n"
      ],
      "metadata": {
        "colab": {
          "base_uri": "https://localhost:8080/",
          "height": 367
        },
        "id": "GSfKMjvaSm_o",
        "outputId": "7f44a2ad-1a51-4a2e-83ef-81c99b7e2122"
      },
      "execution_count": 3,
      "outputs": [
        {
          "output_type": "stream",
          "name": "stderr",
          "text": [
            "100%|██████████| 170M/170M [00:02<00:00, 85.1MB/s]\n"
          ]
        },
        {
          "output_type": "error",
          "ename": "KeyboardInterrupt",
          "evalue": "",
          "traceback": [
            "\u001b[0;31m---------------------------------------------------------------------------\u001b[0m",
            "\u001b[0;31mKeyboardInterrupt\u001b[0m                         Traceback (most recent call last)",
            "\u001b[0;32m<ipython-input-3-ec50a7612a51>\u001b[0m in \u001b[0;36m<cell line: 0>\u001b[0;34m()\u001b[0m\n\u001b[1;32m     61\u001b[0m         \u001b[0moutputs\u001b[0m \u001b[0;34m=\u001b[0m \u001b[0mresnet\u001b[0m\u001b[0;34m(\u001b[0m\u001b[0mimages\u001b[0m\u001b[0;34m)\u001b[0m     \u001b[0;31m# Forward pass: compute predictions\u001b[0m\u001b[0;34m\u001b[0m\u001b[0;34m\u001b[0m\u001b[0m\n\u001b[1;32m     62\u001b[0m         \u001b[0mloss\u001b[0m \u001b[0;34m=\u001b[0m \u001b[0mcriterion\u001b[0m\u001b[0;34m(\u001b[0m\u001b[0moutputs\u001b[0m\u001b[0;34m,\u001b[0m \u001b[0mlabels\u001b[0m\u001b[0;34m)\u001b[0m  \u001b[0;31m# Compute loss\u001b[0m\u001b[0;34m\u001b[0m\u001b[0;34m\u001b[0m\u001b[0m\n\u001b[0;32m---> 63\u001b[0;31m         \u001b[0mloss\u001b[0m\u001b[0;34m.\u001b[0m\u001b[0mbackward\u001b[0m\u001b[0;34m(\u001b[0m\u001b[0;34m)\u001b[0m              \u001b[0;31m# Backward pass: compute gradients\u001b[0m\u001b[0;34m\u001b[0m\u001b[0;34m\u001b[0m\u001b[0m\n\u001b[0m\u001b[1;32m     64\u001b[0m         \u001b[0moptimizer\u001b[0m\u001b[0;34m.\u001b[0m\u001b[0mstep\u001b[0m\u001b[0;34m(\u001b[0m\u001b[0;34m)\u001b[0m             \u001b[0;31m# Update weights\u001b[0m\u001b[0;34m\u001b[0m\u001b[0;34m\u001b[0m\u001b[0m\n\u001b[1;32m     65\u001b[0m \u001b[0;34m\u001b[0m\u001b[0m\n",
            "\u001b[0;32m/usr/local/lib/python3.11/dist-packages/torch/_tensor.py\u001b[0m in \u001b[0;36mbackward\u001b[0;34m(self, gradient, retain_graph, create_graph, inputs)\u001b[0m\n\u001b[1;32m    624\u001b[0m                 \u001b[0minputs\u001b[0m\u001b[0;34m=\u001b[0m\u001b[0minputs\u001b[0m\u001b[0;34m,\u001b[0m\u001b[0;34m\u001b[0m\u001b[0;34m\u001b[0m\u001b[0m\n\u001b[1;32m    625\u001b[0m             )\n\u001b[0;32m--> 626\u001b[0;31m         torch.autograd.backward(\n\u001b[0m\u001b[1;32m    627\u001b[0m             \u001b[0mself\u001b[0m\u001b[0;34m,\u001b[0m \u001b[0mgradient\u001b[0m\u001b[0;34m,\u001b[0m \u001b[0mretain_graph\u001b[0m\u001b[0;34m,\u001b[0m \u001b[0mcreate_graph\u001b[0m\u001b[0;34m,\u001b[0m \u001b[0minputs\u001b[0m\u001b[0;34m=\u001b[0m\u001b[0minputs\u001b[0m\u001b[0;34m\u001b[0m\u001b[0;34m\u001b[0m\u001b[0m\n\u001b[1;32m    628\u001b[0m         )\n",
            "\u001b[0;32m/usr/local/lib/python3.11/dist-packages/torch/autograd/__init__.py\u001b[0m in \u001b[0;36mbackward\u001b[0;34m(tensors, grad_tensors, retain_graph, create_graph, grad_variables, inputs)\u001b[0m\n\u001b[1;32m    345\u001b[0m     \u001b[0;31m# some Python versions print out the first line of a multi-line function\u001b[0m\u001b[0;34m\u001b[0m\u001b[0;34m\u001b[0m\u001b[0m\n\u001b[1;32m    346\u001b[0m     \u001b[0;31m# calls in the traceback and some print out the last line\u001b[0m\u001b[0;34m\u001b[0m\u001b[0;34m\u001b[0m\u001b[0m\n\u001b[0;32m--> 347\u001b[0;31m     _engine_run_backward(\n\u001b[0m\u001b[1;32m    348\u001b[0m         \u001b[0mtensors\u001b[0m\u001b[0;34m,\u001b[0m\u001b[0;34m\u001b[0m\u001b[0;34m\u001b[0m\u001b[0m\n\u001b[1;32m    349\u001b[0m         \u001b[0mgrad_tensors_\u001b[0m\u001b[0;34m,\u001b[0m\u001b[0;34m\u001b[0m\u001b[0;34m\u001b[0m\u001b[0m\n",
            "\u001b[0;32m/usr/local/lib/python3.11/dist-packages/torch/autograd/graph.py\u001b[0m in \u001b[0;36m_engine_run_backward\u001b[0;34m(t_outputs, *args, **kwargs)\u001b[0m\n\u001b[1;32m    821\u001b[0m         \u001b[0munregister_hooks\u001b[0m \u001b[0;34m=\u001b[0m \u001b[0m_register_logging_hooks_on_whole_graph\u001b[0m\u001b[0;34m(\u001b[0m\u001b[0mt_outputs\u001b[0m\u001b[0;34m)\u001b[0m\u001b[0;34m\u001b[0m\u001b[0;34m\u001b[0m\u001b[0m\n\u001b[1;32m    822\u001b[0m     \u001b[0;32mtry\u001b[0m\u001b[0;34m:\u001b[0m\u001b[0;34m\u001b[0m\u001b[0;34m\u001b[0m\u001b[0m\n\u001b[0;32m--> 823\u001b[0;31m         return Variable._execution_engine.run_backward(  # Calls into the C++ engine to run the backward pass\n\u001b[0m\u001b[1;32m    824\u001b[0m             \u001b[0mt_outputs\u001b[0m\u001b[0;34m,\u001b[0m \u001b[0;34m*\u001b[0m\u001b[0margs\u001b[0m\u001b[0;34m,\u001b[0m \u001b[0;34m**\u001b[0m\u001b[0mkwargs\u001b[0m\u001b[0;34m\u001b[0m\u001b[0;34m\u001b[0m\u001b[0m\n\u001b[1;32m    825\u001b[0m         )  # Calls into the C++ engine to run the backward pass\n",
            "\u001b[0;31mKeyboardInterrupt\u001b[0m: "
          ]
        }
      ]
    },
    {
      "cell_type": "markdown",
      "source": [
        "##**Full Code with Validation and Accuracy Tracking**"
      ],
      "metadata": {
        "id": "9koJyMg0W5rS"
      }
    },
    {
      "cell_type": "code",
      "source": [
        "import torch\n",
        "import torch.nn as nn\n",
        "import torch.optim as optim\n",
        "from torchvision import datasets, transforms\n",
        "from torchvision.models import resnet18, ResNet18_Weights\n",
        "from torch.utils.data import DataLoader\n",
        "\n",
        "# 1. Load pretrained ResNet18\n",
        "resnet = resnet18(weights=ResNet18_Weights.DEFAULT)\n",
        "\n",
        "# 2. Freeze all layers\n",
        "for param in resnet.parameters():\n",
        "    param.requires_grad = False\n",
        "\n",
        "# 3. Unfreeze only layer2 and layer3\n",
        "for param in resnet.layer2.parameters():\n",
        "    param.requires_grad = True\n",
        "for param in resnet.layer3.parameters():\n",
        "    param.requires_grad = True\n",
        "\n",
        "# 4. Replace final layer for 10-class classification\n",
        "num_classes = 10\n",
        "resnet.fc = nn.Linear(resnet.fc.in_features, num_classes)\n",
        "\n",
        "# 5. Unfreeze the new fc layer\n",
        "for param in resnet.fc.parameters():\n",
        "    param.requires_grad = True\n",
        "\n",
        "# 6. Define transforms\n",
        "transform = transforms.Compose([\n",
        "    transforms.Resize((224, 224)),\n",
        "    transforms.ToTensor()\n",
        "])\n",
        "\n",
        "# 7. Load CIFAR-10 dataset (train and validation)\n",
        "train_dataset = datasets.CIFAR10(root='./data', train=True, download=True, transform=transform)\n",
        "val_dataset = datasets.CIFAR10(root='./data', train=False, download=True, transform=transform)\n",
        "\n",
        "train_loader = DataLoader(train_dataset, batch_size=32, shuffle=True)\n",
        "val_loader = DataLoader(val_dataset, batch_size=32, shuffle=False)\n",
        "\n",
        "# 8. Loss function and optimizer\n",
        "criterion = nn.CrossEntropyLoss()\n",
        "trainable_params = filter(lambda p: p.requires_grad, resnet.parameters())\n",
        "optimizer = optim.Adam(trainable_params, lr=1e-4)\n",
        "\n",
        "# 9. Move model to GPU if available\n",
        "device = torch.device(\"cuda\" if torch.cuda.is_available() else \"cpu\")\n",
        "resnet.to(device)\n",
        "\n",
        "# 10. Training and validation loop\n",
        "num_epochs = 5\n",
        "for epoch in range(num_epochs):\n",
        "    resnet.train()\n",
        "    train_loss = 0.0\n",
        "    correct_train = 0\n",
        "    total_train = 0\n",
        "\n",
        "    for images, labels in train_loader:\n",
        "        images, labels = images.to(device), labels.to(device)\n",
        "\n",
        "        optimizer.zero_grad()\n",
        "        outputs = resnet(images)\n",
        "        loss = criterion(outputs, labels)\n",
        "        loss.backward()\n",
        "        optimizer.step()\n",
        "\n",
        "        train_loss += loss.item()\n",
        "        _, predicted = torch.max(outputs.data, 1)\n",
        "        total_train += labels.size(0)\n",
        "        correct_train += (predicted == labels).sum().item()\n",
        "\n",
        "    train_accuracy = 100 * correct_train / total_train\n",
        "\n",
        "    # Validation phase\n",
        "    resnet.eval()\n",
        "    val_loss = 0.0\n",
        "    correct_val = 0\n",
        "    total_val = 0\n",
        "\n",
        "    with torch.no_grad():\n",
        "        for images, labels in val_loader:\n",
        "            images, labels = images.to(device), labels.to(device)\n",
        "            outputs = resnet(images)\n",
        "            loss = criterion(outputs, labels)\n",
        "\n",
        "            val_loss += loss.item()\n",
        "            _, predicted = torch.max(outputs.data, 1)\n",
        "            total_val += labels.size(0)\n",
        "            correct_val += (predicted == labels).sum().item()\n",
        "\n",
        "    val_accuracy = 100 * correct_val / total_val\n",
        "\n",
        "    # Print metrics\n",
        "    print(f\"Epoch [{epoch+1}/{num_epochs}]\")\n",
        "    print(f\"  Train Loss: {train_loss/len(train_loader):.4f}, Accuracy: {train_accuracy:.2f}%\")\n",
        "    print(f\"  Val   Loss: {val_loss/len(val_loader):.4f}, Accuracy: {val_accuracy:.2f}%\")\n"
      ],
      "metadata": {
        "id": "6ejjR8FZW-Kv"
      },
      "execution_count": null,
      "outputs": []
    }
  ]
}